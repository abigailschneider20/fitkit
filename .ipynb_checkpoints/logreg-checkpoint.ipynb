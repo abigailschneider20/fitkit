{
 "cells": [
  {
   "cell_type": "code",
   "execution_count": 2,
   "metadata": {},
   "outputs": [
    {
     "ename": "SyntaxError",
     "evalue": "EOL while scanning string literal (<ipython-input-2-bf622b562c43>, line 41)",
     "output_type": "error",
     "traceback": [
      "\u001b[0;36m  File \u001b[0;32m\"<ipython-input-2-bf622b562c43>\"\u001b[0;36m, line \u001b[0;32m41\u001b[0m\n\u001b[0;31m    test_data = load_data(r\")\u001b[0m\n\u001b[0m                             ^\u001b[0m\n\u001b[0;31mSyntaxError\u001b[0m\u001b[0;31m:\u001b[0m EOL while scanning string literal\n"
     ]
    }
   ],
   "source": [
    "import numpy \n",
    "import matplotlib.pyplot as plt\n",
    "import pandas\n",
    "from sklearn import preprocessing\n",
    "from sklearn.linear_model import LogisticRegression\n",
    "from sklearn.model_selection import train_test_split\n",
    "import seaborn as sns\n",
    "sns.set(style=\"white\")\n",
    "sns.set(style=\"whitegrid\", color_codes=True)\n",
    "\n",
    "def load_data(path):\n",
    "    df = pandas.read_csv(path)\n",
    "    df = pandas.DataFrame(df)\n",
    "    return df\n",
    "\n",
    "\n",
    "\n",
    "\n",
    "if __name__=='__main__':\n",
    "    #training data below\n",
    "    #loads data from CSV for PHQ vs. biometric variables\n",
    "\n",
    "    phqbiodata = load_data(r\"rhrphq\")\n",
    "    print(phqbiodata.shape)\n",
    "    print(list(phqbiodata.columns))\n",
    "    phqbiodata.head()\n",
    "    \n",
    "    #loads data from CSV for GAD vs. biometric variables\n",
    "    gadbiodata = load_data(r\"gadbio\")\n",
    "    print(gadbiodata.shape)\n",
    "    print(list(gadbiodata.columns))\n",
    "    gadbiodata.head()\n",
    "    \n",
    "    #loads data from CSV for ISI vs. biometric variables\n",
    "    sleepbiodata = load_data(r\"sleepbio\")\n",
    "    print(sleepbiodata.shape)\n",
    "    print(list(sleepbiodata.columns))\n",
    "    sleepbiodata.head()\n",
    "    \n",
    "    #testdata\n",
    "#     test_data = load_data(r\")\n",
    "\n",
    "    #fitbit data will always be compared to test data\n",
    "    \n",
    "    #start with resting hr, move on to comparing steps, mins active,\n",
    "    #mins sedentary, mins sleep vs. PHQ scores\n",
    "\n",
    "    phqstepsx = phqbiodata.iloc[:, 4]\n",
    "    phqminssleepx= phqbiodata.iloc[:,5]\n",
    "    phqminssedx = phqbiodata.iloc[:, 6]\n",
    "    phqexerx = phqbiodata.iloc[:,7]\n",
    "    phqrhrx = phqbiodata.iloc[:, 8]\n",
    "    phqscoresy = phqbiodata.iloc[:, 1]\n",
    "    phqbio_affected = phqbiodata.loc[phqscoresy == 1]\n",
    "    print(phqbio_affected)\n",
    "    phqbio_unaffected = phqbiodata.loc[phqscoresy == 0]\n",
    "    print(phqbio_unaffected)\n",
    "    \n",
    "    plt.scatter(phqbio_affected.iloc[:, 0], phqbio_affected.iloc[:, 1], s=10, label ='PHQ/RHR Affected')\n",
    "    plt.scatter(phqrhr_unaffected.iloc[:, 0], phqrhr_unaffected.iloc[:, 1], s=10, label = 'PHQ/RHR Unaffected')\n",
    "    plt.legend()\n",
    "    plt.show()\n",
    "    \n",
    "    \n",
    "    "
   ]
  },
  {
   "cell_type": "code",
   "execution_count": null,
   "metadata": {},
   "outputs": [],
   "source": []
  },
  {
   "cell_type": "code",
   "execution_count": 5,
   "metadata": {},
   "outputs": [
    {
     "ename": "NameError",
     "evalue": "name 'phqbiodata' is not defined",
     "output_type": "error",
     "traceback": [
      "\u001b[0;31m---------------------------------------------------------------------------\u001b[0m",
      "\u001b[0;31mNameError\u001b[0m                                 Traceback (most recent call last)",
      "\u001b[0;32m<ipython-input-5-e99a0667b8f6>\u001b[0m in \u001b[0;36m<module>\u001b[0;34m\u001b[0m\n\u001b[0;32m----> 1\u001b[0;31m \u001b[0mphqbiodata\u001b[0m\u001b[0;34m[\u001b[0m\u001b[0;34m'score'\u001b[0m\u001b[0;34m]\u001b[0m\u001b[0;34m.\u001b[0m\u001b[0mvalue_counts\u001b[0m\u001b[0;34m(\u001b[0m\u001b[0;34m)\u001b[0m\u001b[0;34m\u001b[0m\u001b[0;34m\u001b[0m\u001b[0m\n\u001b[0m",
      "\u001b[0;31mNameError\u001b[0m: name 'phqbiodata' is not defined"
     ]
    }
   ],
   "source": [
    "phqbiodata['score'].value_counts()\n"
   ]
  },
  {
   "cell_type": "code",
   "execution_count": 10,
   "metadata": {},
   "outputs": [
    {
     "ename": "ValueError",
     "evalue": "Could not interpret input 'score'",
     "output_type": "error",
     "traceback": [
      "\u001b[0;31m---------------------------------------------------------------------------\u001b[0m",
      "\u001b[0;31mValueError\u001b[0m                                Traceback (most recent call last)",
      "\u001b[0;32m<ipython-input-10-ea275a82fcad>\u001b[0m in \u001b[0;36m<module>\u001b[0;34m\u001b[0m\n\u001b[0;32m----> 1\u001b[0;31m \u001b[0msns\u001b[0m\u001b[0;34m.\u001b[0m\u001b[0mcountplot\u001b[0m\u001b[0;34m(\u001b[0m\u001b[0mx\u001b[0m\u001b[0;34m=\u001b[0m\u001b[0;34m'score'\u001b[0m\u001b[0;34m,\u001b[0m \u001b[0mrhrphqdata\u001b[0m\u001b[0;34m=\u001b[0m\u001b[0mrhrphqdata\u001b[0m\u001b[0;34m,\u001b[0m \u001b[0mpalette\u001b[0m \u001b[0;34m=\u001b[0m\u001b[0;34m'hls'\u001b[0m\u001b[0;34m)\u001b[0m\u001b[0;34m\u001b[0m\u001b[0m\n\u001b[0m",
      "\u001b[0;32m~/env/lib/python3.6/site-packages/seaborn/categorical.py\u001b[0m in \u001b[0;36mcountplot\u001b[0;34m(x, y, hue, data, order, hue_order, orient, color, palette, saturation, dodge, ax, **kwargs)\u001b[0m\n\u001b[1;32m   3551\u001b[0m                           \u001b[0mestimator\u001b[0m\u001b[0;34m,\u001b[0m \u001b[0mci\u001b[0m\u001b[0;34m,\u001b[0m \u001b[0mn_boot\u001b[0m\u001b[0;34m,\u001b[0m \u001b[0munits\u001b[0m\u001b[0;34m,\u001b[0m\u001b[0;34m\u001b[0m\u001b[0m\n\u001b[1;32m   3552\u001b[0m                           \u001b[0morient\u001b[0m\u001b[0;34m,\u001b[0m \u001b[0mcolor\u001b[0m\u001b[0;34m,\u001b[0m \u001b[0mpalette\u001b[0m\u001b[0;34m,\u001b[0m \u001b[0msaturation\u001b[0m\u001b[0;34m,\u001b[0m\u001b[0;34m\u001b[0m\u001b[0m\n\u001b[0;32m-> 3553\u001b[0;31m                           errcolor, errwidth, capsize, dodge)\n\u001b[0m\u001b[1;32m   3554\u001b[0m \u001b[0;34m\u001b[0m\u001b[0m\n\u001b[1;32m   3555\u001b[0m     \u001b[0mplotter\u001b[0m\u001b[0;34m.\u001b[0m\u001b[0mvalue_label\u001b[0m \u001b[0;34m=\u001b[0m \u001b[0;34m\"count\"\u001b[0m\u001b[0;34m\u001b[0m\u001b[0m\n",
      "\u001b[0;32m~/env/lib/python3.6/site-packages/seaborn/categorical.py\u001b[0m in \u001b[0;36m__init__\u001b[0;34m(self, x, y, hue, data, order, hue_order, estimator, ci, n_boot, units, orient, color, palette, saturation, errcolor, errwidth, capsize, dodge)\u001b[0m\n\u001b[1;32m   1605\u001b[0m         \u001b[0;34m\"\"\"Initialize the plotter.\"\"\"\u001b[0m\u001b[0;34m\u001b[0m\u001b[0m\n\u001b[1;32m   1606\u001b[0m         self.establish_variables(x, y, hue, data, orient,\n\u001b[0;32m-> 1607\u001b[0;31m                                  order, hue_order, units)\n\u001b[0m\u001b[1;32m   1608\u001b[0m         \u001b[0mself\u001b[0m\u001b[0;34m.\u001b[0m\u001b[0mestablish_colors\u001b[0m\u001b[0;34m(\u001b[0m\u001b[0mcolor\u001b[0m\u001b[0;34m,\u001b[0m \u001b[0mpalette\u001b[0m\u001b[0;34m,\u001b[0m \u001b[0msaturation\u001b[0m\u001b[0;34m)\u001b[0m\u001b[0;34m\u001b[0m\u001b[0m\n\u001b[1;32m   1609\u001b[0m         \u001b[0mself\u001b[0m\u001b[0;34m.\u001b[0m\u001b[0mestimate_statistic\u001b[0m\u001b[0;34m(\u001b[0m\u001b[0mestimator\u001b[0m\u001b[0;34m,\u001b[0m \u001b[0mci\u001b[0m\u001b[0;34m,\u001b[0m \u001b[0mn_boot\u001b[0m\u001b[0;34m)\u001b[0m\u001b[0;34m\u001b[0m\u001b[0m\n",
      "\u001b[0;32m~/env/lib/python3.6/site-packages/seaborn/categorical.py\u001b[0m in \u001b[0;36mestablish_variables\u001b[0;34m(self, x, y, hue, data, orient, order, hue_order, units)\u001b[0m\n\u001b[1;32m    153\u001b[0m                 \u001b[0;32mif\u001b[0m \u001b[0misinstance\u001b[0m\u001b[0;34m(\u001b[0m\u001b[0minput\u001b[0m\u001b[0;34m,\u001b[0m \u001b[0mstring_types\u001b[0m\u001b[0;34m)\u001b[0m\u001b[0;34m:\u001b[0m\u001b[0;34m\u001b[0m\u001b[0m\n\u001b[1;32m    154\u001b[0m                     \u001b[0merr\u001b[0m \u001b[0;34m=\u001b[0m \u001b[0;34m\"Could not interpret input '{}'\"\u001b[0m\u001b[0;34m.\u001b[0m\u001b[0mformat\u001b[0m\u001b[0;34m(\u001b[0m\u001b[0minput\u001b[0m\u001b[0;34m)\u001b[0m\u001b[0;34m\u001b[0m\u001b[0m\n\u001b[0;32m--> 155\u001b[0;31m                     \u001b[0;32mraise\u001b[0m \u001b[0mValueError\u001b[0m\u001b[0;34m(\u001b[0m\u001b[0merr\u001b[0m\u001b[0;34m)\u001b[0m\u001b[0;34m\u001b[0m\u001b[0m\n\u001b[0m\u001b[1;32m    156\u001b[0m \u001b[0;34m\u001b[0m\u001b[0m\n\u001b[1;32m    157\u001b[0m             \u001b[0;31m# Figure out the plotting orientation\u001b[0m\u001b[0;34m\u001b[0m\u001b[0;34m\u001b[0m\u001b[0m\n",
      "\u001b[0;31mValueError\u001b[0m: Could not interpret input 'score'"
     ]
    }
   ],
   "source": [
    "sns.countplot(x='score', phqbiodata=phqbiodata, palette ='hls')"
   ]
  },
  {
   "cell_type": "code",
   "execution_count": 12,
   "metadata": {},
   "outputs": [
    {
     "data": {
      "image/png": "[encoded data removed]",
      "text/plain": [
       "<Figure size 432x288 with 1 Axes>"
      ]
     },
     "metadata": {},
     "output_type": "display_data"
    },
    {
     "data": {
      "text/plain": [
       "<Figure size 432x288 with 0 Axes>"
      ]
     },
     "metadata": {},
     "output_type": "display_data"
    }
   ],
   "source": [
    "sns.countplot(x='score', data=phqbiodata, palette='hls')\n",
    "plt.show()\n",
    "plt.savefig('count_plot')"
   ]
  },
  {
   "cell_type": "code",
   "execution_count": 13,
   "metadata": {},
   "outputs": [
    {
     "name": "stdout",
     "output_type": "stream",
     "text": [
      "No Depression: 84.51988496878727\n",
      "Depression: 15.480115031212737\n"
     ]
    }
   ],
   "source": [
    "count_nodepression = len(phqbiodata[phqbiodata['score']==0])\n",
    "count_depression = len(phqbiodata[phqbiodata['score']==1])\n",
    "nodep_percent = count_nodepression/(count_depression+count_nodepression)\n",
    "print('No Depression:',nodep_percent*100)\n",
    "dep_percent = count_depression/(count_depression+count_nodepression)\n",
    "print('Depression:', dep_percent*100)\n"
   ]
  },
  {
   "cell_type": "code",
   "execution_count": 14,
   "metadata": {},
   "outputs": [
    {
     "data": {
      "text/html": [
       "<div>\n",
       "<style scoped>\n",
       "    .dataframe tbody tr th:only-of-type {\n",
       "        vertical-align: middle;\n",
       "    }\n",
       "\n",
       "    .dataframe tbody tr th {\n",
       "        vertical-align: top;\n",
       "    }\n",
       "\n",
       "    .dataframe thead th {\n",
       "        text-align: right;\n",
       "    }\n",
       "</style>\n",
       "<table border=\"1\" class=\"dataframe\">\n",
       "  <thead>\n",
       "    <tr style=\"text-align: right;\">\n",
       "      <th></th>\n",
       "      <th>user_id</th>\n",
       "      <th>user_id.1</th>\n",
       "      <th>steps</th>\n",
       "      <th>sleep</th>\n",
       "      <th>mins_sedentary</th>\n",
       "      <th>mins_exercise</th>\n",
       "      <th>resting_hr</th>\n",
       "    </tr>\n",
       "    <tr>\n",
       "      <th>score</th>\n",
       "      <th></th>\n",
       "      <th></th>\n",
       "      <th></th>\n",
       "      <th></th>\n",
       "      <th></th>\n",
       "      <th></th>\n",
       "      <th></th>\n",
       "    </tr>\n",
       "  </thead>\n",
       "  <tbody>\n",
       "    <tr>\n",
       "      <th>0</th>\n",
       "      <td>49.268050</td>\n",
       "      <td>48.922407</td>\n",
       "      <td>9997.527718</td>\n",
       "      <td>479.229710</td>\n",
       "      <td>400.885062</td>\n",
       "      <td>160.842075</td>\n",
       "      <td>74.511120</td>\n",
       "    </tr>\n",
       "    <tr>\n",
       "      <th>1</th>\n",
       "      <td>40.298595</td>\n",
       "      <td>40.298595</td>\n",
       "      <td>5048.125963</td>\n",
       "      <td>270.215224</td>\n",
       "      <td>623.894880</td>\n",
       "      <td>19.232895</td>\n",
       "      <td>87.396013</td>\n",
       "    </tr>\n",
       "  </tbody>\n",
       "</table>\n",
       "</div>"
      ],
      "text/plain": [
       "         user_id  user_id.1        steps       sleep  mins_sedentary  \\\n",
       "score                                                                  \n",
       "0      49.268050  48.922407  9997.527718  479.229710      400.885062   \n",
       "1      40.298595  40.298595  5048.125963  270.215224      623.894880   \n",
       "\n",
       "       mins_exercise  resting_hr  \n",
       "score                             \n",
       "0         160.842075   74.511120  \n",
       "1          19.232895   87.396013  "
      ]
     },
     "execution_count": 14,
     "metadata": {},
     "output_type": "execute_result"
    }
   ],
   "source": [
    "phqbiodata.groupby('score').mean()\n"
   ]
  },
  {
   "cell_type": "code",
   "execution_count": null,
   "metadata": {},
   "outputs": [],
   "source": [
    "x = numpy.c_[numpy.ones((phqrhrx.shape[0], 1)), phqrhrx]\n",
    "y = phqscoresy[:, numpy.newaxis]\n",
    "theta = numpy.zeros((phqrhrx.shape[1],1))\n",
    "\n",
    "def sigmoid(x):\n",
    "    return 1/(1+numpy.exp(-x))\n",
    "\n",
    "def net_input(theta, x):\n",
    "    #returns input weighted sums\n",
    "    return numpy.dot(x, theta)\n",
    "\n",
    "def probability(theta, x):\n",
    "    #returns prob with passing of sigmoid\n",
    "    return sigmoid(net_input(theta, x))\n",
    "def cost_function(theta, x, y):\n",
    "    #calculates cost function for training samples\n",
    "    m = x.shape[0]\n",
    "    total_cost = -(1/m)* numpy.sum(\n",
    "    y*numpy.log(probability(theta, x))+ (1-y)*numpy.log(1-probability(theta,x)))\n",
    "    return total_cost\n",
    "\n",
    "def gradient(theta, x, y):\n",
    "    #calcs gradient of cost function at theta\n",
    "    m = x.shape[0]\n",
    "    return (1/m)* numpy.dot(x.T, sigmoid(net_input(theta, x))-y)\n",
    "    \n",
    "def fit(x, y, theta):\n",
    "    opt_weights = fmin_tnc(func=cost_function, x0=theta, fprime=gradient, args=(x,y.flatten()))\n",
    "    return opt_weights[0]\n",
    "parameters = fit(x, y, theta) #model parameters\n",
    "\n",
    "#plotting decision boundary by setting weighted sum of inputs to 0\n",
    "x_values = [numpy.min(phqrhrx[:, 1]-5), numpy.max(phqrhrx[:, 2]+5)]\n",
    "y_values = - (parameters[0] + numpy.dot(parameters[1], x_values))/parameters[2]\n",
    "\n",
    "plt.plot(x_values, y_values, label = 'Decision Boundary')\n",
    "plt.xlabel('1st')\n",
    "plt.ylabel('2nd')\n",
    "plt.legend()\n",
    "plt.show()\n",
    "\n",
    "def predict(self,x):\n",
    "    theta = parameters[:, numpy.newaxis]\n",
    "    return probability(theta,x)\n",
    "\n",
    "def accuracy(self, x, actual_classes, probab_threshold=0.5):\n",
    "    predicted_classes = (predict(x)>= probab_threshold).astype(int)\n",
    "    predicted_classes = predicted_classes.flatten()\n",
    "    accuracy = numpy.mean(predicted_classes == actual_classes)\n",
    "    return accuracy * 100\n",
    "\n",
    "accuracy(phqrhrx, y.flatten())\n",
    "\n",
    "#     phqstepsx = phqbiodata.iloc[:, 4]\n",
    "#     phqminssleepx= phqbiodata.iloc[:,5]\n",
    "#     phqminssedx = phqbiodata.iloc[:, 6]\n",
    "#     phqexerx = phqbiodata.iloc[:,7]\n",
    "#     phqrhrx = phqbiodata.iloc[:, 8]\n",
    "#     phqscoresy = phqbiodata.iloc[:, 1]\n",
    "\n",
    "#training model by hand (without sklearn)"
   ]
  },
  {
   "cell_type": "code",
   "execution_count": 7,
   "metadata": {},
   "outputs": [
    {
     "ename": "ModuleNotFoundError",
     "evalue": "No module named 'sklearn'",
     "output_type": "error",
     "traceback": [
      "\u001b[0;31m---------------------------------------------------------------------------\u001b[0m",
      "\u001b[0;31mModuleNotFoundError\u001b[0m                       Traceback (most recent call last)",
      "\u001b[0;32m<ipython-input-7-5c07a1478fb1>\u001b[0m in \u001b[0;36m<module>\u001b[0;34m\u001b[0m\n\u001b[0;32m----> 1\u001b[0;31m \u001b[0;32mfrom\u001b[0m \u001b[0msklearn\u001b[0m\u001b[0;34m.\u001b[0m\u001b[0mlinear_model\u001b[0m \u001b[0;32mimport\u001b[0m \u001b[0mLogisticRegression\u001b[0m\u001b[0;34m\u001b[0m\u001b[0;34m\u001b[0m\u001b[0m\n\u001b[0m\u001b[1;32m      2\u001b[0m \u001b[0;32mfrom\u001b[0m \u001b[0msklearn\u001b[0m\u001b[0;34m.\u001b[0m\u001b[0mmetrics\u001b[0m \u001b[0;32mimport\u001b[0m \u001b[0maccuracy_score\u001b[0m\u001b[0;34m\u001b[0m\u001b[0;34m\u001b[0m\u001b[0m\n\u001b[1;32m      3\u001b[0m \u001b[0;34m\u001b[0m\u001b[0m\n\u001b[1;32m      4\u001b[0m \u001b[0mmodel\u001b[0m \u001b[0;34m=\u001b[0m \u001b[0mLogisticRegression\u001b[0m\u001b[0;34m(\u001b[0m\u001b[0;34m)\u001b[0m\u001b[0;34m\u001b[0m\u001b[0;34m\u001b[0m\u001b[0m\n\u001b[1;32m      5\u001b[0m \u001b[0mmodel\u001b[0m\u001b[0;34m.\u001b[0m\u001b[0mfit\u001b[0m\u001b[0;34m(\u001b[0m\u001b[0mphqrhrx\u001b[0m\u001b[0;34m,\u001b[0m \u001b[0my\u001b[0m\u001b[0;34m)\u001b[0m\u001b[0;34m\u001b[0m\u001b[0;34m\u001b[0m\u001b[0m\n",
      "\u001b[0;31mModuleNotFoundError\u001b[0m: No module named 'sklearn'"
     ]
    }
   ],
   "source": [
    "from sklearn.linear_model import LogisticRegression\n",
    "from sklearn.metrics import accuracy_score\n",
    "\n",
    "model = LogisticRegression()\n",
    "model.fit(phqrhrx, y)\n",
    "predicted_classes = model.predict(phqrhrx)\n",
    "accuracy = accuracy_score(y.flatten(), predicted_classes)\n",
    "parameters = model.coef_\n",
    "#using sklearn logistic regression model"
   ]
  },
  {
   "cell_type": "code",
   "execution_count": null,
   "metadata": {},
   "outputs": [],
   "source": []
  }
 ],
 "metadata": {
  "kernelspec": {
   "display_name": "Python 3",
   "language": "python",
   "name": "python3"
  }
 },
 "nbformat": 4,
 "nbformat_minor": 2
}
